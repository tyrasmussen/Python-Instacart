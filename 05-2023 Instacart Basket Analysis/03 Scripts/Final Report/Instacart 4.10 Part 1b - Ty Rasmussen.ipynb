{
 "cells": [
  {
   "cell_type": "markdown",
   "id": "04ea4b2b",
   "metadata": {},
   "source": [
    "## 4.10 Excel Reporting"
   ]
  },
  {
   "cell_type": "markdown",
   "id": "2f52b3e4",
   "metadata": {},
   "source": [
    "### This script will contain the following:\n",
    "\n",
    "#### Import Libraries\n",
    "#### Import High Activity Customers Dataframe\n",
    "#### Customer Profiling\n",
    "#### Import Department Dataframe\n",
    "#### Merge Department Dataframe and High Activity Customers Dataframe\n",
    "#### Visualizations\n",
    "#### Aggregations\n",
    "#### Compare with Regions\n",
    "#### Compare with Departments\n",
    "#### Export FINAL Merged Dataframe"
   ]
  },
  {
   "cell_type": "markdown",
   "id": "de32c2f7",
   "metadata": {},
   "source": [
    "# 01. Import Libraries"
   ]
  },
  {
   "cell_type": "code",
   "execution_count": 1,
   "id": "8ae52dfc",
   "metadata": {},
   "outputs": [],
   "source": [
    "# Import libraries\n",
    "import pandas as pd\n",
    "import numpy as np\n",
    "import os\n",
    "import matplotlib.pyplot as plt\n",
    "import seaborn as sns\n",
    "import scipy"
   ]
  },
  {
   "cell_type": "markdown",
   "id": "f25fd247",
   "metadata": {},
   "source": [
    "# 02. Import High Activity Customers Dataframe"
   ]
  },
  {
   "cell_type": "code",
   "execution_count": 2,
   "id": "589facb6",
   "metadata": {},
   "outputs": [],
   "source": [
    "# Path Creation\n",
    "path = r'/Users/tyrasmussen/Desktop/05-2023 Instacart Basket Analysis'"
   ]
  },
  {
   "cell_type": "code",
   "execution_count": 3,
   "id": "ed509b39",
   "metadata": {},
   "outputs": [],
   "source": [
    "# Import High Activity Customers Dataframe\n",
    "high_act_cust = pd.read_pickle(os.path.join(path, '02 Data', 'Prepared Data', 'cust_high_activity.pkl'))"
   ]
  },
  {
   "cell_type": "code",
   "execution_count": 4,
   "id": "e3b744d6",
   "metadata": {},
   "outputs": [
    {
     "data": {
      "text/html": [
       "<div>\n",
       "<style scoped>\n",
       "    .dataframe tbody tr th:only-of-type {\n",
       "        vertical-align: middle;\n",
       "    }\n",
       "\n",
       "    .dataframe tbody tr th {\n",
       "        vertical-align: top;\n",
       "    }\n",
       "\n",
       "    .dataframe thead th {\n",
       "        text-align: right;\n",
       "    }\n",
       "</style>\n",
       "<table border=\"1\" class=\"dataframe\">\n",
       "  <thead>\n",
       "    <tr style=\"text-align: right;\">\n",
       "      <th></th>\n",
       "      <th>product_id</th>\n",
       "      <th>product_name</th>\n",
       "      <th>aisle_id</th>\n",
       "      <th>department_id</th>\n",
       "      <th>prices</th>\n",
       "      <th>order_id</th>\n",
       "      <th>user_id</th>\n",
       "      <th>order_number</th>\n",
       "      <th>orders_day_of_week</th>\n",
       "      <th>order_hour_of_day</th>\n",
       "      <th>...</th>\n",
       "      <th>frequent_user_flag</th>\n",
       "      <th>Gender</th>\n",
       "      <th>STATE</th>\n",
       "      <th>Age</th>\n",
       "      <th>date_joined</th>\n",
       "      <th>n_dependants</th>\n",
       "      <th>marriage_status</th>\n",
       "      <th>income</th>\n",
       "      <th>region</th>\n",
       "      <th>low_activity_flag</th>\n",
       "    </tr>\n",
       "  </thead>\n",
       "  <tbody>\n",
       "    <tr>\n",
       "      <th>0</th>\n",
       "      <td>1</td>\n",
       "      <td>Chocolate Sandwich Cookies</td>\n",
       "      <td>61</td>\n",
       "      <td>19</td>\n",
       "      <td>5.8</td>\n",
       "      <td>3139998</td>\n",
       "      <td>138</td>\n",
       "      <td>28</td>\n",
       "      <td>6</td>\n",
       "      <td>11</td>\n",
       "      <td>...</td>\n",
       "      <td>Frequent customer</td>\n",
       "      <td>Male</td>\n",
       "      <td>Minnesota</td>\n",
       "      <td>81</td>\n",
       "      <td>8/1/2019</td>\n",
       "      <td>1</td>\n",
       "      <td>married</td>\n",
       "      <td>49620</td>\n",
       "      <td>Midwest</td>\n",
       "      <td>high_activity</td>\n",
       "    </tr>\n",
       "    <tr>\n",
       "      <th>1</th>\n",
       "      <td>1</td>\n",
       "      <td>Chocolate Sandwich Cookies</td>\n",
       "      <td>61</td>\n",
       "      <td>19</td>\n",
       "      <td>5.8</td>\n",
       "      <td>1977647</td>\n",
       "      <td>138</td>\n",
       "      <td>30</td>\n",
       "      <td>6</td>\n",
       "      <td>17</td>\n",
       "      <td>...</td>\n",
       "      <td>Frequent customer</td>\n",
       "      <td>Male</td>\n",
       "      <td>Minnesota</td>\n",
       "      <td>81</td>\n",
       "      <td>8/1/2019</td>\n",
       "      <td>1</td>\n",
       "      <td>married</td>\n",
       "      <td>49620</td>\n",
       "      <td>Midwest</td>\n",
       "      <td>high_activity</td>\n",
       "    </tr>\n",
       "    <tr>\n",
       "      <th>2</th>\n",
       "      <td>907</td>\n",
       "      <td>Premium Sliced Bacon</td>\n",
       "      <td>106</td>\n",
       "      <td>12</td>\n",
       "      <td>20.0</td>\n",
       "      <td>3160996</td>\n",
       "      <td>138</td>\n",
       "      <td>1</td>\n",
       "      <td>5</td>\n",
       "      <td>13</td>\n",
       "      <td>...</td>\n",
       "      <td>Frequent customer</td>\n",
       "      <td>Male</td>\n",
       "      <td>Minnesota</td>\n",
       "      <td>81</td>\n",
       "      <td>8/1/2019</td>\n",
       "      <td>1</td>\n",
       "      <td>married</td>\n",
       "      <td>49620</td>\n",
       "      <td>Midwest</td>\n",
       "      <td>high_activity</td>\n",
       "    </tr>\n",
       "    <tr>\n",
       "      <th>3</th>\n",
       "      <td>907</td>\n",
       "      <td>Premium Sliced Bacon</td>\n",
       "      <td>106</td>\n",
       "      <td>12</td>\n",
       "      <td>20.0</td>\n",
       "      <td>2254091</td>\n",
       "      <td>138</td>\n",
       "      <td>10</td>\n",
       "      <td>5</td>\n",
       "      <td>14</td>\n",
       "      <td>...</td>\n",
       "      <td>Frequent customer</td>\n",
       "      <td>Male</td>\n",
       "      <td>Minnesota</td>\n",
       "      <td>81</td>\n",
       "      <td>8/1/2019</td>\n",
       "      <td>1</td>\n",
       "      <td>married</td>\n",
       "      <td>49620</td>\n",
       "      <td>Midwest</td>\n",
       "      <td>high_activity</td>\n",
       "    </tr>\n",
       "    <tr>\n",
       "      <th>4</th>\n",
       "      <td>1000</td>\n",
       "      <td>Apricots</td>\n",
       "      <td>18</td>\n",
       "      <td>10</td>\n",
       "      <td>12.9</td>\n",
       "      <td>505689</td>\n",
       "      <td>138</td>\n",
       "      <td>9</td>\n",
       "      <td>6</td>\n",
       "      <td>12</td>\n",
       "      <td>...</td>\n",
       "      <td>Frequent customer</td>\n",
       "      <td>Male</td>\n",
       "      <td>Minnesota</td>\n",
       "      <td>81</td>\n",
       "      <td>8/1/2019</td>\n",
       "      <td>1</td>\n",
       "      <td>married</td>\n",
       "      <td>49620</td>\n",
       "      <td>Midwest</td>\n",
       "      <td>high_activity</td>\n",
       "    </tr>\n",
       "  </tbody>\n",
       "</table>\n",
       "<p>5 rows × 34 columns</p>\n",
       "</div>"
      ],
      "text/plain": [
       "   product_id                product_name  aisle_id  department_id  prices  \\\n",
       "0           1  Chocolate Sandwich Cookies        61             19     5.8   \n",
       "1           1  Chocolate Sandwich Cookies        61             19     5.8   \n",
       "2         907        Premium Sliced Bacon       106             12    20.0   \n",
       "3         907        Premium Sliced Bacon       106             12    20.0   \n",
       "4        1000                    Apricots        18             10    12.9   \n",
       "\n",
       "   order_id  user_id  order_number  orders_day_of_week  order_hour_of_day  \\\n",
       "0   3139998      138            28                   6                 11   \n",
       "1   1977647      138            30                   6                 17   \n",
       "2   3160996      138             1                   5                 13   \n",
       "3   2254091      138            10                   5                 14   \n",
       "4    505689      138             9                   6                 12   \n",
       "\n",
       "   ...  frequent_user_flag  Gender      STATE Age date_joined n_dependants  \\\n",
       "0  ...   Frequent customer    Male  Minnesota  81    8/1/2019            1   \n",
       "1  ...   Frequent customer    Male  Minnesota  81    8/1/2019            1   \n",
       "2  ...   Frequent customer    Male  Minnesota  81    8/1/2019            1   \n",
       "3  ...   Frequent customer    Male  Minnesota  81    8/1/2019            1   \n",
       "4  ...   Frequent customer    Male  Minnesota  81    8/1/2019            1   \n",
       "\n",
       "  marriage_status income   region  low_activity_flag  \n",
       "0         married  49620  Midwest      high_activity  \n",
       "1         married  49620  Midwest      high_activity  \n",
       "2         married  49620  Midwest      high_activity  \n",
       "3         married  49620  Midwest      high_activity  \n",
       "4         married  49620  Midwest      high_activity  \n",
       "\n",
       "[5 rows x 34 columns]"
      ]
     },
     "execution_count": 4,
     "metadata": {},
     "output_type": "execute_result"
    }
   ],
   "source": [
    "high_act_cust.head()"
   ]
  },
  {
   "cell_type": "code",
   "execution_count": 5,
   "id": "2f8b1473",
   "metadata": {},
   "outputs": [
    {
     "data": {
      "text/plain": [
       "(30959687, 34)"
      ]
     },
     "execution_count": 5,
     "metadata": {},
     "output_type": "execute_result"
    }
   ],
   "source": [
    "high_act_cust.shape"
   ]
  },
  {
   "cell_type": "code",
   "execution_count": 6,
   "id": "9f98d1cd",
   "metadata": {},
   "outputs": [
    {
     "data": {
      "text/plain": [
       "Index(['product_id', 'product_name', 'aisle_id', 'department_id', 'prices',\n",
       "       'order_id', 'user_id', 'order_number', 'orders_day_of_week',\n",
       "       'order_hour_of_day', 'days_since_prior_order', 'add_to_cart_order',\n",
       "       'reordered', '_merge', 'busiest_day', 'price_range_loc', 'busiest_days',\n",
       "       'busiest_hours', 'busiest_period_of_day', 'max_order', 'loyalty_flag',\n",
       "       'mean_prices', 'spending_flag', 'median_days_since_prior_order',\n",
       "       'frequent_user_flag', 'Gender', 'STATE', 'Age', 'date_joined',\n",
       "       'n_dependants', 'marriage_status', 'income', 'region',\n",
       "       'low_activity_flag'],\n",
       "      dtype='object')"
      ]
     },
     "execution_count": 6,
     "metadata": {},
     "output_type": "execute_result"
    }
   ],
   "source": [
    "high_act_cust.columns"
   ]
  },
  {
   "cell_type": "markdown",
   "id": "aaef07fc",
   "metadata": {},
   "source": [
    "# 03. Customer Profiling"
   ]
  },
  {
   "cell_type": "markdown",
   "id": "5a2d2b5b",
   "metadata": {},
   "source": [
    "## Age"
   ]
  },
  {
   "cell_type": "code",
   "execution_count": 7,
   "id": "36bc7a0c",
   "metadata": {},
   "outputs": [],
   "source": [
    "# Create an Age Flag\n",
    "high_act_cust.loc[high_act_cust['Age'] >= 60, 'age_flag'] = 'Senior'"
   ]
  },
  {
   "cell_type": "code",
   "execution_count": 8,
   "id": "4b27356b",
   "metadata": {},
   "outputs": [],
   "source": [
    "high_act_cust.loc[(high_act_cust['Age'] >= 45) & (high_act_cust['Age'] < 60), 'age_flag'] = 'Middle Age'"
   ]
  },
  {
   "cell_type": "code",
   "execution_count": 9,
   "id": "9a52f178",
   "metadata": {},
   "outputs": [],
   "source": [
    "high_act_cust.loc[(high_act_cust['Age'] >= 26) & (high_act_cust['Age'] < 45), 'age_flag'] = 'Adult'"
   ]
  },
  {
   "cell_type": "code",
   "execution_count": 10,
   "id": "bb811c7c",
   "metadata": {},
   "outputs": [],
   "source": [
    "high_act_cust.loc[high_act_cust['Age'] < 26, 'age_flag'] = 'Young Adult'"
   ]
  },
  {
   "cell_type": "code",
   "execution_count": 11,
   "id": "55085809",
   "metadata": {},
   "outputs": [
    {
     "data": {
      "text/plain": [
       "Senior         10572857\n",
       "Adult           9213092\n",
       "Middle Age      7309871\n",
       "Young Adult     3863867\n",
       "Name: age_flag, dtype: int64"
      ]
     },
     "execution_count": 11,
     "metadata": {},
     "output_type": "execute_result"
    }
   ],
   "source": [
    "# Check Output\n",
    "high_act_cust['age_flag'].value_counts()"
   ]
  },
  {
   "cell_type": "code",
   "execution_count": 12,
   "id": "741c6100",
   "metadata": {},
   "outputs": [
    {
     "data": {
      "text/html": [
       "<div>\n",
       "<style scoped>\n",
       "    .dataframe tbody tr th:only-of-type {\n",
       "        vertical-align: middle;\n",
       "    }\n",
       "\n",
       "    .dataframe tbody tr th {\n",
       "        vertical-align: top;\n",
       "    }\n",
       "\n",
       "    .dataframe thead th {\n",
       "        text-align: right;\n",
       "    }\n",
       "</style>\n",
       "<table border=\"1\" class=\"dataframe\">\n",
       "  <thead>\n",
       "    <tr style=\"text-align: right;\">\n",
       "      <th></th>\n",
       "      <th>product_id</th>\n",
       "      <th>product_name</th>\n",
       "      <th>aisle_id</th>\n",
       "      <th>department_id</th>\n",
       "      <th>prices</th>\n",
       "      <th>order_id</th>\n",
       "      <th>user_id</th>\n",
       "      <th>order_number</th>\n",
       "      <th>orders_day_of_week</th>\n",
       "      <th>order_hour_of_day</th>\n",
       "      <th>...</th>\n",
       "      <th>Gender</th>\n",
       "      <th>STATE</th>\n",
       "      <th>Age</th>\n",
       "      <th>date_joined</th>\n",
       "      <th>n_dependants</th>\n",
       "      <th>marriage_status</th>\n",
       "      <th>income</th>\n",
       "      <th>region</th>\n",
       "      <th>low_activity_flag</th>\n",
       "      <th>age_flag</th>\n",
       "    </tr>\n",
       "  </thead>\n",
       "  <tbody>\n",
       "    <tr>\n",
       "      <th>0</th>\n",
       "      <td>1</td>\n",
       "      <td>Chocolate Sandwich Cookies</td>\n",
       "      <td>61</td>\n",
       "      <td>19</td>\n",
       "      <td>5.8</td>\n",
       "      <td>3139998</td>\n",
       "      <td>138</td>\n",
       "      <td>28</td>\n",
       "      <td>6</td>\n",
       "      <td>11</td>\n",
       "      <td>...</td>\n",
       "      <td>Male</td>\n",
       "      <td>Minnesota</td>\n",
       "      <td>81</td>\n",
       "      <td>8/1/2019</td>\n",
       "      <td>1</td>\n",
       "      <td>married</td>\n",
       "      <td>49620</td>\n",
       "      <td>Midwest</td>\n",
       "      <td>high_activity</td>\n",
       "      <td>Senior</td>\n",
       "    </tr>\n",
       "    <tr>\n",
       "      <th>1</th>\n",
       "      <td>1</td>\n",
       "      <td>Chocolate Sandwich Cookies</td>\n",
       "      <td>61</td>\n",
       "      <td>19</td>\n",
       "      <td>5.8</td>\n",
       "      <td>1977647</td>\n",
       "      <td>138</td>\n",
       "      <td>30</td>\n",
       "      <td>6</td>\n",
       "      <td>17</td>\n",
       "      <td>...</td>\n",
       "      <td>Male</td>\n",
       "      <td>Minnesota</td>\n",
       "      <td>81</td>\n",
       "      <td>8/1/2019</td>\n",
       "      <td>1</td>\n",
       "      <td>married</td>\n",
       "      <td>49620</td>\n",
       "      <td>Midwest</td>\n",
       "      <td>high_activity</td>\n",
       "      <td>Senior</td>\n",
       "    </tr>\n",
       "    <tr>\n",
       "      <th>2</th>\n",
       "      <td>907</td>\n",
       "      <td>Premium Sliced Bacon</td>\n",
       "      <td>106</td>\n",
       "      <td>12</td>\n",
       "      <td>20.0</td>\n",
       "      <td>3160996</td>\n",
       "      <td>138</td>\n",
       "      <td>1</td>\n",
       "      <td>5</td>\n",
       "      <td>13</td>\n",
       "      <td>...</td>\n",
       "      <td>Male</td>\n",
       "      <td>Minnesota</td>\n",
       "      <td>81</td>\n",
       "      <td>8/1/2019</td>\n",
       "      <td>1</td>\n",
       "      <td>married</td>\n",
       "      <td>49620</td>\n",
       "      <td>Midwest</td>\n",
       "      <td>high_activity</td>\n",
       "      <td>Senior</td>\n",
       "    </tr>\n",
       "    <tr>\n",
       "      <th>3</th>\n",
       "      <td>907</td>\n",
       "      <td>Premium Sliced Bacon</td>\n",
       "      <td>106</td>\n",
       "      <td>12</td>\n",
       "      <td>20.0</td>\n",
       "      <td>2254091</td>\n",
       "      <td>138</td>\n",
       "      <td>10</td>\n",
       "      <td>5</td>\n",
       "      <td>14</td>\n",
       "      <td>...</td>\n",
       "      <td>Male</td>\n",
       "      <td>Minnesota</td>\n",
       "      <td>81</td>\n",
       "      <td>8/1/2019</td>\n",
       "      <td>1</td>\n",
       "      <td>married</td>\n",
       "      <td>49620</td>\n",
       "      <td>Midwest</td>\n",
       "      <td>high_activity</td>\n",
       "      <td>Senior</td>\n",
       "    </tr>\n",
       "    <tr>\n",
       "      <th>4</th>\n",
       "      <td>1000</td>\n",
       "      <td>Apricots</td>\n",
       "      <td>18</td>\n",
       "      <td>10</td>\n",
       "      <td>12.9</td>\n",
       "      <td>505689</td>\n",
       "      <td>138</td>\n",
       "      <td>9</td>\n",
       "      <td>6</td>\n",
       "      <td>12</td>\n",
       "      <td>...</td>\n",
       "      <td>Male</td>\n",
       "      <td>Minnesota</td>\n",
       "      <td>81</td>\n",
       "      <td>8/1/2019</td>\n",
       "      <td>1</td>\n",
       "      <td>married</td>\n",
       "      <td>49620</td>\n",
       "      <td>Midwest</td>\n",
       "      <td>high_activity</td>\n",
       "      <td>Senior</td>\n",
       "    </tr>\n",
       "  </tbody>\n",
       "</table>\n",
       "<p>5 rows × 35 columns</p>\n",
       "</div>"
      ],
      "text/plain": [
       "   product_id                product_name  aisle_id  department_id  prices  \\\n",
       "0           1  Chocolate Sandwich Cookies        61             19     5.8   \n",
       "1           1  Chocolate Sandwich Cookies        61             19     5.8   \n",
       "2         907        Premium Sliced Bacon       106             12    20.0   \n",
       "3         907        Premium Sliced Bacon       106             12    20.0   \n",
       "4        1000                    Apricots        18             10    12.9   \n",
       "\n",
       "   order_id  user_id  order_number  orders_day_of_week  order_hour_of_day  \\\n",
       "0   3139998      138            28                   6                 11   \n",
       "1   1977647      138            30                   6                 17   \n",
       "2   3160996      138             1                   5                 13   \n",
       "3   2254091      138            10                   5                 14   \n",
       "4    505689      138             9                   6                 12   \n",
       "\n",
       "   ...  Gender      STATE  Age date_joined n_dependants marriage_status  \\\n",
       "0  ...    Male  Minnesota   81    8/1/2019            1         married   \n",
       "1  ...    Male  Minnesota   81    8/1/2019            1         married   \n",
       "2  ...    Male  Minnesota   81    8/1/2019            1         married   \n",
       "3  ...    Male  Minnesota   81    8/1/2019            1         married   \n",
       "4  ...    Male  Minnesota   81    8/1/2019            1         married   \n",
       "\n",
       "  income   region low_activity_flag  age_flag  \n",
       "0  49620  Midwest     high_activity    Senior  \n",
       "1  49620  Midwest     high_activity    Senior  \n",
       "2  49620  Midwest     high_activity    Senior  \n",
       "3  49620  Midwest     high_activity    Senior  \n",
       "4  49620  Midwest     high_activity    Senior  \n",
       "\n",
       "[5 rows x 35 columns]"
      ]
     },
     "execution_count": 12,
     "metadata": {},
     "output_type": "execute_result"
    }
   ],
   "source": [
    "high_act_cust.head()"
   ]
  },
  {
   "cell_type": "markdown",
   "id": "5f19defa",
   "metadata": {},
   "source": [
    "## Income"
   ]
  },
  {
   "cell_type": "code",
   "execution_count": 13,
   "id": "70410152",
   "metadata": {},
   "outputs": [],
   "source": [
    "# Create income_flag\n",
    "high_act_cust.loc[high_act_cust['income'] <= 50000, 'income_flag'] = 'Low income'\n",
    "high_act_cust.loc[(high_act_cust['income'] >50000) & (high_act_cust['income'] <= 150000), 'income_flag'] = 'Middle income'\n",
    "high_act_cust.loc[high_act_cust['income'] > 150000, 'income_flag'] = 'High income'"
   ]
  },
  {
   "cell_type": "code",
   "execution_count": 14,
   "id": "01f53592",
   "metadata": {},
   "outputs": [
    {
     "data": {
      "text/plain": [
       "Middle income    23706293\n",
       "High income       3890840\n",
       "Low income        3362554\n",
       "Name: income_flag, dtype: int64"
      ]
     },
     "execution_count": 14,
     "metadata": {},
     "output_type": "execute_result"
    }
   ],
   "source": [
    "# Check output\n",
    "high_act_cust['income_flag'].value_counts(dropna = False)"
   ]
  },
  {
   "cell_type": "code",
   "execution_count": 15,
   "id": "c04c404b",
   "metadata": {},
   "outputs": [
    {
     "data": {
      "text/html": [
       "<div>\n",
       "<style scoped>\n",
       "    .dataframe tbody tr th:only-of-type {\n",
       "        vertical-align: middle;\n",
       "    }\n",
       "\n",
       "    .dataframe tbody tr th {\n",
       "        vertical-align: top;\n",
       "    }\n",
       "\n",
       "    .dataframe thead th {\n",
       "        text-align: right;\n",
       "    }\n",
       "</style>\n",
       "<table border=\"1\" class=\"dataframe\">\n",
       "  <thead>\n",
       "    <tr style=\"text-align: right;\">\n",
       "      <th></th>\n",
       "      <th>product_id</th>\n",
       "      <th>product_name</th>\n",
       "      <th>aisle_id</th>\n",
       "      <th>department_id</th>\n",
       "      <th>prices</th>\n",
       "      <th>order_id</th>\n",
       "      <th>user_id</th>\n",
       "      <th>order_number</th>\n",
       "      <th>orders_day_of_week</th>\n",
       "      <th>order_hour_of_day</th>\n",
       "      <th>...</th>\n",
       "      <th>STATE</th>\n",
       "      <th>Age</th>\n",
       "      <th>date_joined</th>\n",
       "      <th>n_dependants</th>\n",
       "      <th>marriage_status</th>\n",
       "      <th>income</th>\n",
       "      <th>region</th>\n",
       "      <th>low_activity_flag</th>\n",
       "      <th>age_flag</th>\n",
       "      <th>income_flag</th>\n",
       "    </tr>\n",
       "  </thead>\n",
       "  <tbody>\n",
       "    <tr>\n",
       "      <th>0</th>\n",
       "      <td>1</td>\n",
       "      <td>Chocolate Sandwich Cookies</td>\n",
       "      <td>61</td>\n",
       "      <td>19</td>\n",
       "      <td>5.8</td>\n",
       "      <td>3139998</td>\n",
       "      <td>138</td>\n",
       "      <td>28</td>\n",
       "      <td>6</td>\n",
       "      <td>11</td>\n",
       "      <td>...</td>\n",
       "      <td>Minnesota</td>\n",
       "      <td>81</td>\n",
       "      <td>8/1/2019</td>\n",
       "      <td>1</td>\n",
       "      <td>married</td>\n",
       "      <td>49620</td>\n",
       "      <td>Midwest</td>\n",
       "      <td>high_activity</td>\n",
       "      <td>Senior</td>\n",
       "      <td>Low income</td>\n",
       "    </tr>\n",
       "    <tr>\n",
       "      <th>1</th>\n",
       "      <td>1</td>\n",
       "      <td>Chocolate Sandwich Cookies</td>\n",
       "      <td>61</td>\n",
       "      <td>19</td>\n",
       "      <td>5.8</td>\n",
       "      <td>1977647</td>\n",
       "      <td>138</td>\n",
       "      <td>30</td>\n",
       "      <td>6</td>\n",
       "      <td>17</td>\n",
       "      <td>...</td>\n",
       "      <td>Minnesota</td>\n",
       "      <td>81</td>\n",
       "      <td>8/1/2019</td>\n",
       "      <td>1</td>\n",
       "      <td>married</td>\n",
       "      <td>49620</td>\n",
       "      <td>Midwest</td>\n",
       "      <td>high_activity</td>\n",
       "      <td>Senior</td>\n",
       "      <td>Low income</td>\n",
       "    </tr>\n",
       "    <tr>\n",
       "      <th>2</th>\n",
       "      <td>907</td>\n",
       "      <td>Premium Sliced Bacon</td>\n",
       "      <td>106</td>\n",
       "      <td>12</td>\n",
       "      <td>20.0</td>\n",
       "      <td>3160996</td>\n",
       "      <td>138</td>\n",
       "      <td>1</td>\n",
       "      <td>5</td>\n",
       "      <td>13</td>\n",
       "      <td>...</td>\n",
       "      <td>Minnesota</td>\n",
       "      <td>81</td>\n",
       "      <td>8/1/2019</td>\n",
       "      <td>1</td>\n",
       "      <td>married</td>\n",
       "      <td>49620</td>\n",
       "      <td>Midwest</td>\n",
       "      <td>high_activity</td>\n",
       "      <td>Senior</td>\n",
       "      <td>Low income</td>\n",
       "    </tr>\n",
       "    <tr>\n",
       "      <th>3</th>\n",
       "      <td>907</td>\n",
       "      <td>Premium Sliced Bacon</td>\n",
       "      <td>106</td>\n",
       "      <td>12</td>\n",
       "      <td>20.0</td>\n",
       "      <td>2254091</td>\n",
       "      <td>138</td>\n",
       "      <td>10</td>\n",
       "      <td>5</td>\n",
       "      <td>14</td>\n",
       "      <td>...</td>\n",
       "      <td>Minnesota</td>\n",
       "      <td>81</td>\n",
       "      <td>8/1/2019</td>\n",
       "      <td>1</td>\n",
       "      <td>married</td>\n",
       "      <td>49620</td>\n",
       "      <td>Midwest</td>\n",
       "      <td>high_activity</td>\n",
       "      <td>Senior</td>\n",
       "      <td>Low income</td>\n",
       "    </tr>\n",
       "    <tr>\n",
       "      <th>4</th>\n",
       "      <td>1000</td>\n",
       "      <td>Apricots</td>\n",
       "      <td>18</td>\n",
       "      <td>10</td>\n",
       "      <td>12.9</td>\n",
       "      <td>505689</td>\n",
       "      <td>138</td>\n",
       "      <td>9</td>\n",
       "      <td>6</td>\n",
       "      <td>12</td>\n",
       "      <td>...</td>\n",
       "      <td>Minnesota</td>\n",
       "      <td>81</td>\n",
       "      <td>8/1/2019</td>\n",
       "      <td>1</td>\n",
       "      <td>married</td>\n",
       "      <td>49620</td>\n",
       "      <td>Midwest</td>\n",
       "      <td>high_activity</td>\n",
       "      <td>Senior</td>\n",
       "      <td>Low income</td>\n",
       "    </tr>\n",
       "  </tbody>\n",
       "</table>\n",
       "<p>5 rows × 36 columns</p>\n",
       "</div>"
      ],
      "text/plain": [
       "   product_id                product_name  aisle_id  department_id  prices  \\\n",
       "0           1  Chocolate Sandwich Cookies        61             19     5.8   \n",
       "1           1  Chocolate Sandwich Cookies        61             19     5.8   \n",
       "2         907        Premium Sliced Bacon       106             12    20.0   \n",
       "3         907        Premium Sliced Bacon       106             12    20.0   \n",
       "4        1000                    Apricots        18             10    12.9   \n",
       "\n",
       "   order_id  user_id  order_number  orders_day_of_week  order_hour_of_day  \\\n",
       "0   3139998      138            28                   6                 11   \n",
       "1   1977647      138            30                   6                 17   \n",
       "2   3160996      138             1                   5                 13   \n",
       "3   2254091      138            10                   5                 14   \n",
       "4    505689      138             9                   6                 12   \n",
       "\n",
       "   ...      STATE  Age  date_joined n_dependants marriage_status income  \\\n",
       "0  ...  Minnesota   81     8/1/2019            1         married  49620   \n",
       "1  ...  Minnesota   81     8/1/2019            1         married  49620   \n",
       "2  ...  Minnesota   81     8/1/2019            1         married  49620   \n",
       "3  ...  Minnesota   81     8/1/2019            1         married  49620   \n",
       "4  ...  Minnesota   81     8/1/2019            1         married  49620   \n",
       "\n",
       "    region low_activity_flag age_flag  income_flag  \n",
       "0  Midwest     high_activity   Senior   Low income  \n",
       "1  Midwest     high_activity   Senior   Low income  \n",
       "2  Midwest     high_activity   Senior   Low income  \n",
       "3  Midwest     high_activity   Senior   Low income  \n",
       "4  Midwest     high_activity   Senior   Low income  \n",
       "\n",
       "[5 rows x 36 columns]"
      ]
     },
     "execution_count": 15,
     "metadata": {},
     "output_type": "execute_result"
    }
   ],
   "source": [
    "high_act_cust.head()"
   ]
  },
  {
   "cell_type": "markdown",
   "id": "43c429be",
   "metadata": {},
   "source": [
    "## Number of Dependents"
   ]
  },
  {
   "cell_type": "code",
   "execution_count": 16,
   "id": "5e201892",
   "metadata": {},
   "outputs": [],
   "source": [
    "# Create dependents_flag\n",
    "high_act_cust.loc[high_act_cust['n_dependants'] == 0, 'dependents_flag'] = 'Individual'\n",
    "high_act_cust.loc[high_act_cust['n_dependants'] != 0, 'dependents_flag'] = 'Caregiver'"
   ]
  },
  {
   "cell_type": "code",
   "execution_count": 17,
   "id": "29ddb246",
   "metadata": {},
   "outputs": [
    {
     "data": {
      "text/plain": [
       "Caregiver     23221179\n",
       "Individual     7738508\n",
       "Name: dependents_flag, dtype: int64"
      ]
     },
     "execution_count": 17,
     "metadata": {},
     "output_type": "execute_result"
    }
   ],
   "source": [
    "# Check output\n",
    "high_act_cust['dependents_flag'].value_counts(dropna = False)"
   ]
  },
  {
   "cell_type": "code",
   "execution_count": 18,
   "id": "061dfb76",
   "metadata": {},
   "outputs": [
    {
     "data": {
      "text/html": [
       "<div>\n",
       "<style scoped>\n",
       "    .dataframe tbody tr th:only-of-type {\n",
       "        vertical-align: middle;\n",
       "    }\n",
       "\n",
       "    .dataframe tbody tr th {\n",
       "        vertical-align: top;\n",
       "    }\n",
       "\n",
       "    .dataframe thead th {\n",
       "        text-align: right;\n",
       "    }\n",
       "</style>\n",
       "<table border=\"1\" class=\"dataframe\">\n",
       "  <thead>\n",
       "    <tr style=\"text-align: right;\">\n",
       "      <th></th>\n",
       "      <th>product_id</th>\n",
       "      <th>product_name</th>\n",
       "      <th>aisle_id</th>\n",
       "      <th>department_id</th>\n",
       "      <th>prices</th>\n",
       "      <th>order_id</th>\n",
       "      <th>user_id</th>\n",
       "      <th>order_number</th>\n",
       "      <th>orders_day_of_week</th>\n",
       "      <th>order_hour_of_day</th>\n",
       "      <th>...</th>\n",
       "      <th>Age</th>\n",
       "      <th>date_joined</th>\n",
       "      <th>n_dependants</th>\n",
       "      <th>marriage_status</th>\n",
       "      <th>income</th>\n",
       "      <th>region</th>\n",
       "      <th>low_activity_flag</th>\n",
       "      <th>age_flag</th>\n",
       "      <th>income_flag</th>\n",
       "      <th>dependents_flag</th>\n",
       "    </tr>\n",
       "  </thead>\n",
       "  <tbody>\n",
       "    <tr>\n",
       "      <th>0</th>\n",
       "      <td>1</td>\n",
       "      <td>Chocolate Sandwich Cookies</td>\n",
       "      <td>61</td>\n",
       "      <td>19</td>\n",
       "      <td>5.8</td>\n",
       "      <td>3139998</td>\n",
       "      <td>138</td>\n",
       "      <td>28</td>\n",
       "      <td>6</td>\n",
       "      <td>11</td>\n",
       "      <td>...</td>\n",
       "      <td>81</td>\n",
       "      <td>8/1/2019</td>\n",
       "      <td>1</td>\n",
       "      <td>married</td>\n",
       "      <td>49620</td>\n",
       "      <td>Midwest</td>\n",
       "      <td>high_activity</td>\n",
       "      <td>Senior</td>\n",
       "      <td>Low income</td>\n",
       "      <td>Caregiver</td>\n",
       "    </tr>\n",
       "    <tr>\n",
       "      <th>1</th>\n",
       "      <td>1</td>\n",
       "      <td>Chocolate Sandwich Cookies</td>\n",
       "      <td>61</td>\n",
       "      <td>19</td>\n",
       "      <td>5.8</td>\n",
       "      <td>1977647</td>\n",
       "      <td>138</td>\n",
       "      <td>30</td>\n",
       "      <td>6</td>\n",
       "      <td>17</td>\n",
       "      <td>...</td>\n",
       "      <td>81</td>\n",
       "      <td>8/1/2019</td>\n",
       "      <td>1</td>\n",
       "      <td>married</td>\n",
       "      <td>49620</td>\n",
       "      <td>Midwest</td>\n",
       "      <td>high_activity</td>\n",
       "      <td>Senior</td>\n",
       "      <td>Low income</td>\n",
       "      <td>Caregiver</td>\n",
       "    </tr>\n",
       "    <tr>\n",
       "      <th>2</th>\n",
       "      <td>907</td>\n",
       "      <td>Premium Sliced Bacon</td>\n",
       "      <td>106</td>\n",
       "      <td>12</td>\n",
       "      <td>20.0</td>\n",
       "      <td>3160996</td>\n",
       "      <td>138</td>\n",
       "      <td>1</td>\n",
       "      <td>5</td>\n",
       "      <td>13</td>\n",
       "      <td>...</td>\n",
       "      <td>81</td>\n",
       "      <td>8/1/2019</td>\n",
       "      <td>1</td>\n",
       "      <td>married</td>\n",
       "      <td>49620</td>\n",
       "      <td>Midwest</td>\n",
       "      <td>high_activity</td>\n",
       "      <td>Senior</td>\n",
       "      <td>Low income</td>\n",
       "      <td>Caregiver</td>\n",
       "    </tr>\n",
       "    <tr>\n",
       "      <th>3</th>\n",
       "      <td>907</td>\n",
       "      <td>Premium Sliced Bacon</td>\n",
       "      <td>106</td>\n",
       "      <td>12</td>\n",
       "      <td>20.0</td>\n",
       "      <td>2254091</td>\n",
       "      <td>138</td>\n",
       "      <td>10</td>\n",
       "      <td>5</td>\n",
       "      <td>14</td>\n",
       "      <td>...</td>\n",
       "      <td>81</td>\n",
       "      <td>8/1/2019</td>\n",
       "      <td>1</td>\n",
       "      <td>married</td>\n",
       "      <td>49620</td>\n",
       "      <td>Midwest</td>\n",
       "      <td>high_activity</td>\n",
       "      <td>Senior</td>\n",
       "      <td>Low income</td>\n",
       "      <td>Caregiver</td>\n",
       "    </tr>\n",
       "    <tr>\n",
       "      <th>4</th>\n",
       "      <td>1000</td>\n",
       "      <td>Apricots</td>\n",
       "      <td>18</td>\n",
       "      <td>10</td>\n",
       "      <td>12.9</td>\n",
       "      <td>505689</td>\n",
       "      <td>138</td>\n",
       "      <td>9</td>\n",
       "      <td>6</td>\n",
       "      <td>12</td>\n",
       "      <td>...</td>\n",
       "      <td>81</td>\n",
       "      <td>8/1/2019</td>\n",
       "      <td>1</td>\n",
       "      <td>married</td>\n",
       "      <td>49620</td>\n",
       "      <td>Midwest</td>\n",
       "      <td>high_activity</td>\n",
       "      <td>Senior</td>\n",
       "      <td>Low income</td>\n",
       "      <td>Caregiver</td>\n",
       "    </tr>\n",
       "  </tbody>\n",
       "</table>\n",
       "<p>5 rows × 37 columns</p>\n",
       "</div>"
      ],
      "text/plain": [
       "   product_id                product_name  aisle_id  department_id  prices  \\\n",
       "0           1  Chocolate Sandwich Cookies        61             19     5.8   \n",
       "1           1  Chocolate Sandwich Cookies        61             19     5.8   \n",
       "2         907        Premium Sliced Bacon       106             12    20.0   \n",
       "3         907        Premium Sliced Bacon       106             12    20.0   \n",
       "4        1000                    Apricots        18             10    12.9   \n",
       "\n",
       "   order_id  user_id  order_number  orders_day_of_week  order_hour_of_day  \\\n",
       "0   3139998      138            28                   6                 11   \n",
       "1   1977647      138            30                   6                 17   \n",
       "2   3160996      138             1                   5                 13   \n",
       "3   2254091      138            10                   5                 14   \n",
       "4    505689      138             9                   6                 12   \n",
       "\n",
       "   ...  Age  date_joined  n_dependants marriage_status income   region  \\\n",
       "0  ...   81     8/1/2019             1         married  49620  Midwest   \n",
       "1  ...   81     8/1/2019             1         married  49620  Midwest   \n",
       "2  ...   81     8/1/2019             1         married  49620  Midwest   \n",
       "3  ...   81     8/1/2019             1         married  49620  Midwest   \n",
       "4  ...   81     8/1/2019             1         married  49620  Midwest   \n",
       "\n",
       "  low_activity_flag age_flag income_flag  dependents_flag  \n",
       "0     high_activity   Senior  Low income        Caregiver  \n",
       "1     high_activity   Senior  Low income        Caregiver  \n",
       "2     high_activity   Senior  Low income        Caregiver  \n",
       "3     high_activity   Senior  Low income        Caregiver  \n",
       "4     high_activity   Senior  Low income        Caregiver  \n",
       "\n",
       "[5 rows x 37 columns]"
      ]
     },
     "execution_count": 18,
     "metadata": {},
     "output_type": "execute_result"
    }
   ],
   "source": [
    "high_act_cust.head()"
   ]
  },
  {
   "cell_type": "markdown",
   "id": "02cbd8de",
   "metadata": {},
   "source": [
    "## Load In Department Names"
   ]
  },
  {
   "cell_type": "code",
   "execution_count": 19,
   "id": "515b7bb8",
   "metadata": {},
   "outputs": [],
   "source": [
    "# Import Departments Wrangled Dataframe\n",
    "depart = pd.read_csv(os.path.join(path, '02 Data', 'Prepared Data', 'departments_wrangled.csv'))"
   ]
  },
  {
   "cell_type": "code",
   "execution_count": 20,
   "id": "9ef68d74",
   "metadata": {},
   "outputs": [
    {
     "data": {
      "text/html": [
       "<div>\n",
       "<style scoped>\n",
       "    .dataframe tbody tr th:only-of-type {\n",
       "        vertical-align: middle;\n",
       "    }\n",
       "\n",
       "    .dataframe tbody tr th {\n",
       "        vertical-align: top;\n",
       "    }\n",
       "\n",
       "    .dataframe thead th {\n",
       "        text-align: right;\n",
       "    }\n",
       "</style>\n",
       "<table border=\"1\" class=\"dataframe\">\n",
       "  <thead>\n",
       "    <tr style=\"text-align: right;\">\n",
       "      <th></th>\n",
       "      <th>Unnamed: 0</th>\n",
       "      <th>department</th>\n",
       "    </tr>\n",
       "  </thead>\n",
       "  <tbody>\n",
       "    <tr>\n",
       "      <th>0</th>\n",
       "      <td>1</td>\n",
       "      <td>frozen</td>\n",
       "    </tr>\n",
       "    <tr>\n",
       "      <th>1</th>\n",
       "      <td>2</td>\n",
       "      <td>other</td>\n",
       "    </tr>\n",
       "    <tr>\n",
       "      <th>2</th>\n",
       "      <td>3</td>\n",
       "      <td>bakery</td>\n",
       "    </tr>\n",
       "    <tr>\n",
       "      <th>3</th>\n",
       "      <td>4</td>\n",
       "      <td>produce</td>\n",
       "    </tr>\n",
       "    <tr>\n",
       "      <th>4</th>\n",
       "      <td>5</td>\n",
       "      <td>alcohol</td>\n",
       "    </tr>\n",
       "    <tr>\n",
       "      <th>5</th>\n",
       "      <td>6</td>\n",
       "      <td>international</td>\n",
       "    </tr>\n",
       "    <tr>\n",
       "      <th>6</th>\n",
       "      <td>7</td>\n",
       "      <td>beverages</td>\n",
       "    </tr>\n",
       "    <tr>\n",
       "      <th>7</th>\n",
       "      <td>8</td>\n",
       "      <td>pets</td>\n",
       "    </tr>\n",
       "    <tr>\n",
       "      <th>8</th>\n",
       "      <td>9</td>\n",
       "      <td>dry goods pasta</td>\n",
       "    </tr>\n",
       "    <tr>\n",
       "      <th>9</th>\n",
       "      <td>10</td>\n",
       "      <td>bulk</td>\n",
       "    </tr>\n",
       "    <tr>\n",
       "      <th>10</th>\n",
       "      <td>11</td>\n",
       "      <td>personal care</td>\n",
       "    </tr>\n",
       "    <tr>\n",
       "      <th>11</th>\n",
       "      <td>12</td>\n",
       "      <td>meat seafood</td>\n",
       "    </tr>\n",
       "    <tr>\n",
       "      <th>12</th>\n",
       "      <td>13</td>\n",
       "      <td>pantry</td>\n",
       "    </tr>\n",
       "    <tr>\n",
       "      <th>13</th>\n",
       "      <td>14</td>\n",
       "      <td>breakfast</td>\n",
       "    </tr>\n",
       "    <tr>\n",
       "      <th>14</th>\n",
       "      <td>15</td>\n",
       "      <td>canned goods</td>\n",
       "    </tr>\n",
       "    <tr>\n",
       "      <th>15</th>\n",
       "      <td>16</td>\n",
       "      <td>dairy eggs</td>\n",
       "    </tr>\n",
       "    <tr>\n",
       "      <th>16</th>\n",
       "      <td>17</td>\n",
       "      <td>household</td>\n",
       "    </tr>\n",
       "    <tr>\n",
       "      <th>17</th>\n",
       "      <td>18</td>\n",
       "      <td>babies</td>\n",
       "    </tr>\n",
       "    <tr>\n",
       "      <th>18</th>\n",
       "      <td>19</td>\n",
       "      <td>snacks</td>\n",
       "    </tr>\n",
       "    <tr>\n",
       "      <th>19</th>\n",
       "      <td>20</td>\n",
       "      <td>deli</td>\n",
       "    </tr>\n",
       "    <tr>\n",
       "      <th>20</th>\n",
       "      <td>21</td>\n",
       "      <td>missing</td>\n",
       "    </tr>\n",
       "  </tbody>\n",
       "</table>\n",
       "</div>"
      ],
      "text/plain": [
       "    Unnamed: 0       department\n",
       "0            1           frozen\n",
       "1            2            other\n",
       "2            3           bakery\n",
       "3            4          produce\n",
       "4            5          alcohol\n",
       "5            6    international\n",
       "6            7        beverages\n",
       "7            8             pets\n",
       "8            9  dry goods pasta\n",
       "9           10             bulk\n",
       "10          11    personal care\n",
       "11          12     meat seafood\n",
       "12          13           pantry\n",
       "13          14        breakfast\n",
       "14          15     canned goods\n",
       "15          16       dairy eggs\n",
       "16          17        household\n",
       "17          18           babies\n",
       "18          19           snacks\n",
       "19          20             deli\n",
       "20          21          missing"
      ]
     },
     "execution_count": 20,
     "metadata": {},
     "output_type": "execute_result"
    }
   ],
   "source": [
    "depart"
   ]
  },
  {
   "cell_type": "code",
   "execution_count": 21,
   "id": "260be1b2",
   "metadata": {},
   "outputs": [],
   "source": [
    "# Rename 'Unnamed: 0' as 'department_id'\n",
    "depart.rename(columns = {'Unnamed: 0' : 'department_id'}, inplace = True)"
   ]
  },
  {
   "cell_type": "code",
   "execution_count": 22,
   "id": "18997783",
   "metadata": {},
   "outputs": [
    {
     "data": {
      "text/html": [
       "<div>\n",
       "<style scoped>\n",
       "    .dataframe tbody tr th:only-of-type {\n",
       "        vertical-align: middle;\n",
       "    }\n",
       "\n",
       "    .dataframe tbody tr th {\n",
       "        vertical-align: top;\n",
       "    }\n",
       "\n",
       "    .dataframe thead th {\n",
       "        text-align: right;\n",
       "    }\n",
       "</style>\n",
       "<table border=\"1\" class=\"dataframe\">\n",
       "  <thead>\n",
       "    <tr style=\"text-align: right;\">\n",
       "      <th></th>\n",
       "      <th>department_id</th>\n",
       "      <th>department</th>\n",
       "    </tr>\n",
       "  </thead>\n",
       "  <tbody>\n",
       "    <tr>\n",
       "      <th>0</th>\n",
       "      <td>1</td>\n",
       "      <td>frozen</td>\n",
       "    </tr>\n",
       "    <tr>\n",
       "      <th>1</th>\n",
       "      <td>2</td>\n",
       "      <td>other</td>\n",
       "    </tr>\n",
       "    <tr>\n",
       "      <th>2</th>\n",
       "      <td>3</td>\n",
       "      <td>bakery</td>\n",
       "    </tr>\n",
       "    <tr>\n",
       "      <th>3</th>\n",
       "      <td>4</td>\n",
       "      <td>produce</td>\n",
       "    </tr>\n",
       "    <tr>\n",
       "      <th>4</th>\n",
       "      <td>5</td>\n",
       "      <td>alcohol</td>\n",
       "    </tr>\n",
       "    <tr>\n",
       "      <th>5</th>\n",
       "      <td>6</td>\n",
       "      <td>international</td>\n",
       "    </tr>\n",
       "    <tr>\n",
       "      <th>6</th>\n",
       "      <td>7</td>\n",
       "      <td>beverages</td>\n",
       "    </tr>\n",
       "    <tr>\n",
       "      <th>7</th>\n",
       "      <td>8</td>\n",
       "      <td>pets</td>\n",
       "    </tr>\n",
       "    <tr>\n",
       "      <th>8</th>\n",
       "      <td>9</td>\n",
       "      <td>dry goods pasta</td>\n",
       "    </tr>\n",
       "    <tr>\n",
       "      <th>9</th>\n",
       "      <td>10</td>\n",
       "      <td>bulk</td>\n",
       "    </tr>\n",
       "    <tr>\n",
       "      <th>10</th>\n",
       "      <td>11</td>\n",
       "      <td>personal care</td>\n",
       "    </tr>\n",
       "    <tr>\n",
       "      <th>11</th>\n",
       "      <td>12</td>\n",
       "      <td>meat seafood</td>\n",
       "    </tr>\n",
       "    <tr>\n",
       "      <th>12</th>\n",
       "      <td>13</td>\n",
       "      <td>pantry</td>\n",
       "    </tr>\n",
       "    <tr>\n",
       "      <th>13</th>\n",
       "      <td>14</td>\n",
       "      <td>breakfast</td>\n",
       "    </tr>\n",
       "    <tr>\n",
       "      <th>14</th>\n",
       "      <td>15</td>\n",
       "      <td>canned goods</td>\n",
       "    </tr>\n",
       "    <tr>\n",
       "      <th>15</th>\n",
       "      <td>16</td>\n",
       "      <td>dairy eggs</td>\n",
       "    </tr>\n",
       "    <tr>\n",
       "      <th>16</th>\n",
       "      <td>17</td>\n",
       "      <td>household</td>\n",
       "    </tr>\n",
       "    <tr>\n",
       "      <th>17</th>\n",
       "      <td>18</td>\n",
       "      <td>babies</td>\n",
       "    </tr>\n",
       "    <tr>\n",
       "      <th>18</th>\n",
       "      <td>19</td>\n",
       "      <td>snacks</td>\n",
       "    </tr>\n",
       "    <tr>\n",
       "      <th>19</th>\n",
       "      <td>20</td>\n",
       "      <td>deli</td>\n",
       "    </tr>\n",
       "    <tr>\n",
       "      <th>20</th>\n",
       "      <td>21</td>\n",
       "      <td>missing</td>\n",
       "    </tr>\n",
       "  </tbody>\n",
       "</table>\n",
       "</div>"
      ],
      "text/plain": [
       "    department_id       department\n",
       "0               1           frozen\n",
       "1               2            other\n",
       "2               3           bakery\n",
       "3               4          produce\n",
       "4               5          alcohol\n",
       "5               6    international\n",
       "6               7        beverages\n",
       "7               8             pets\n",
       "8               9  dry goods pasta\n",
       "9              10             bulk\n",
       "10             11    personal care\n",
       "11             12     meat seafood\n",
       "12             13           pantry\n",
       "13             14        breakfast\n",
       "14             15     canned goods\n",
       "15             16       dairy eggs\n",
       "16             17        household\n",
       "17             18           babies\n",
       "18             19           snacks\n",
       "19             20             deli\n",
       "20             21          missing"
      ]
     },
     "execution_count": 22,
     "metadata": {},
     "output_type": "execute_result"
    }
   ],
   "source": [
    "depart"
   ]
  },
  {
   "cell_type": "code",
   "execution_count": 23,
   "id": "55a79c9d",
   "metadata": {},
   "outputs": [],
   "source": [
    "# Merge depart with high_act_cust\n",
    "df_merged = high_act_cust.merge(depart, on = 'department_id')"
   ]
  },
  {
   "cell_type": "code",
   "execution_count": 24,
   "id": "ee993638",
   "metadata": {},
   "outputs": [
    {
     "data": {
      "text/html": [
       "<div>\n",
       "<style scoped>\n",
       "    .dataframe tbody tr th:only-of-type {\n",
       "        vertical-align: middle;\n",
       "    }\n",
       "\n",
       "    .dataframe tbody tr th {\n",
       "        vertical-align: top;\n",
       "    }\n",
       "\n",
       "    .dataframe thead th {\n",
       "        text-align: right;\n",
       "    }\n",
       "</style>\n",
       "<table border=\"1\" class=\"dataframe\">\n",
       "  <thead>\n",
       "    <tr style=\"text-align: right;\">\n",
       "      <th></th>\n",
       "      <th>product_id</th>\n",
       "      <th>product_name</th>\n",
       "      <th>aisle_id</th>\n",
       "      <th>department_id</th>\n",
       "      <th>prices</th>\n",
       "      <th>order_id</th>\n",
       "      <th>user_id</th>\n",
       "      <th>order_number</th>\n",
       "      <th>orders_day_of_week</th>\n",
       "      <th>order_hour_of_day</th>\n",
       "      <th>...</th>\n",
       "      <th>date_joined</th>\n",
       "      <th>n_dependants</th>\n",
       "      <th>marriage_status</th>\n",
       "      <th>income</th>\n",
       "      <th>region</th>\n",
       "      <th>low_activity_flag</th>\n",
       "      <th>age_flag</th>\n",
       "      <th>income_flag</th>\n",
       "      <th>dependents_flag</th>\n",
       "      <th>department</th>\n",
       "    </tr>\n",
       "  </thead>\n",
       "  <tbody>\n",
       "    <tr>\n",
       "      <th>0</th>\n",
       "      <td>1</td>\n",
       "      <td>Chocolate Sandwich Cookies</td>\n",
       "      <td>61</td>\n",
       "      <td>19</td>\n",
       "      <td>5.8</td>\n",
       "      <td>3139998</td>\n",
       "      <td>138</td>\n",
       "      <td>28</td>\n",
       "      <td>6</td>\n",
       "      <td>11</td>\n",
       "      <td>...</td>\n",
       "      <td>8/1/2019</td>\n",
       "      <td>1</td>\n",
       "      <td>married</td>\n",
       "      <td>49620</td>\n",
       "      <td>Midwest</td>\n",
       "      <td>high_activity</td>\n",
       "      <td>Senior</td>\n",
       "      <td>Low income</td>\n",
       "      <td>Caregiver</td>\n",
       "      <td>snacks</td>\n",
       "    </tr>\n",
       "    <tr>\n",
       "      <th>1</th>\n",
       "      <td>1</td>\n",
       "      <td>Chocolate Sandwich Cookies</td>\n",
       "      <td>61</td>\n",
       "      <td>19</td>\n",
       "      <td>5.8</td>\n",
       "      <td>1977647</td>\n",
       "      <td>138</td>\n",
       "      <td>30</td>\n",
       "      <td>6</td>\n",
       "      <td>17</td>\n",
       "      <td>...</td>\n",
       "      <td>8/1/2019</td>\n",
       "      <td>1</td>\n",
       "      <td>married</td>\n",
       "      <td>49620</td>\n",
       "      <td>Midwest</td>\n",
       "      <td>high_activity</td>\n",
       "      <td>Senior</td>\n",
       "      <td>Low income</td>\n",
       "      <td>Caregiver</td>\n",
       "      <td>snacks</td>\n",
       "    </tr>\n",
       "    <tr>\n",
       "      <th>2</th>\n",
       "      <td>4913</td>\n",
       "      <td>Table Water Crackers</td>\n",
       "      <td>78</td>\n",
       "      <td>19</td>\n",
       "      <td>4.4</td>\n",
       "      <td>894221</td>\n",
       "      <td>138</td>\n",
       "      <td>23</td>\n",
       "      <td>5</td>\n",
       "      <td>13</td>\n",
       "      <td>...</td>\n",
       "      <td>8/1/2019</td>\n",
       "      <td>1</td>\n",
       "      <td>married</td>\n",
       "      <td>49620</td>\n",
       "      <td>Midwest</td>\n",
       "      <td>high_activity</td>\n",
       "      <td>Senior</td>\n",
       "      <td>Low income</td>\n",
       "      <td>Caregiver</td>\n",
       "      <td>snacks</td>\n",
       "    </tr>\n",
       "    <tr>\n",
       "      <th>3</th>\n",
       "      <td>11759</td>\n",
       "      <td>Organic Simply Naked Pita Chips</td>\n",
       "      <td>107</td>\n",
       "      <td>19</td>\n",
       "      <td>4.4</td>\n",
       "      <td>1986630</td>\n",
       "      <td>138</td>\n",
       "      <td>7</td>\n",
       "      <td>0</td>\n",
       "      <td>12</td>\n",
       "      <td>...</td>\n",
       "      <td>8/1/2019</td>\n",
       "      <td>1</td>\n",
       "      <td>married</td>\n",
       "      <td>49620</td>\n",
       "      <td>Midwest</td>\n",
       "      <td>high_activity</td>\n",
       "      <td>Senior</td>\n",
       "      <td>Low income</td>\n",
       "      <td>Caregiver</td>\n",
       "      <td>snacks</td>\n",
       "    </tr>\n",
       "    <tr>\n",
       "      <th>4</th>\n",
       "      <td>13424</td>\n",
       "      <td>Almonds</td>\n",
       "      <td>45</td>\n",
       "      <td>19</td>\n",
       "      <td>4.2</td>\n",
       "      <td>3139998</td>\n",
       "      <td>138</td>\n",
       "      <td>28</td>\n",
       "      <td>6</td>\n",
       "      <td>11</td>\n",
       "      <td>...</td>\n",
       "      <td>8/1/2019</td>\n",
       "      <td>1</td>\n",
       "      <td>married</td>\n",
       "      <td>49620</td>\n",
       "      <td>Midwest</td>\n",
       "      <td>high_activity</td>\n",
       "      <td>Senior</td>\n",
       "      <td>Low income</td>\n",
       "      <td>Caregiver</td>\n",
       "      <td>snacks</td>\n",
       "    </tr>\n",
       "  </tbody>\n",
       "</table>\n",
       "<p>5 rows × 38 columns</p>\n",
       "</div>"
      ],
      "text/plain": [
       "   product_id                     product_name  aisle_id  department_id  \\\n",
       "0           1       Chocolate Sandwich Cookies        61             19   \n",
       "1           1       Chocolate Sandwich Cookies        61             19   \n",
       "2        4913             Table Water Crackers        78             19   \n",
       "3       11759  Organic Simply Naked Pita Chips       107             19   \n",
       "4       13424                          Almonds        45             19   \n",
       "\n",
       "   prices  order_id  user_id  order_number  orders_day_of_week  \\\n",
       "0     5.8   3139998      138            28                   6   \n",
       "1     5.8   1977647      138            30                   6   \n",
       "2     4.4    894221      138            23                   5   \n",
       "3     4.4   1986630      138             7                   0   \n",
       "4     4.2   3139998      138            28                   6   \n",
       "\n",
       "   order_hour_of_day  ...  date_joined  n_dependants  marriage_status income  \\\n",
       "0                 11  ...     8/1/2019             1          married  49620   \n",
       "1                 17  ...     8/1/2019             1          married  49620   \n",
       "2                 13  ...     8/1/2019             1          married  49620   \n",
       "3                 12  ...     8/1/2019             1          married  49620   \n",
       "4                 11  ...     8/1/2019             1          married  49620   \n",
       "\n",
       "    region low_activity_flag age_flag income_flag dependents_flag  department  \n",
       "0  Midwest     high_activity   Senior  Low income       Caregiver      snacks  \n",
       "1  Midwest     high_activity   Senior  Low income       Caregiver      snacks  \n",
       "2  Midwest     high_activity   Senior  Low income       Caregiver      snacks  \n",
       "3  Midwest     high_activity   Senior  Low income       Caregiver      snacks  \n",
       "4  Midwest     high_activity   Senior  Low income       Caregiver      snacks  \n",
       "\n",
       "[5 rows x 38 columns]"
      ]
     },
     "execution_count": 24,
     "metadata": {},
     "output_type": "execute_result"
    }
   ],
   "source": [
    "df_merged.head()"
   ]
  },
  {
   "cell_type": "code",
   "execution_count": 70,
   "id": "aefe3c90",
   "metadata": {},
   "outputs": [
    {
     "data": {
      "text/plain": [
       "(30959687, 38)"
      ]
     },
     "execution_count": 70,
     "metadata": {},
     "output_type": "execute_result"
    }
   ],
   "source": [
    "df_merged.shape"
   ]
  },
  {
   "cell_type": "markdown",
   "id": "5bb0f079",
   "metadata": {},
   "source": [
    "# 04. Visualizations"
   ]
  },
  {
   "cell_type": "markdown",
   "id": "2d5fba54",
   "metadata": {},
   "source": [
    "## Pie Charts"
   ]
  },
  {
   "cell_type": "markdown",
   "id": "ee4d07be",
   "metadata": {},
   "source": [
    "### Age"
   ]
  },
  {
   "cell_type": "code",
   "execution_count": 25,
   "id": "ddfb1fa1",
   "metadata": {},
   "outputs": [
    {
     "data": {
      "image/png": "[encoded data removed]",
      "text/plain": [
       "<Figure size 640x480 with 1 Axes>"
      ]
     },
     "metadata": {},
     "output_type": "display_data"
    }
   ],
   "source": [
    "pie_chart_age = df_merged['age_flag'].value_counts().plot.pie(title = 'Age Profile', label = '', autopct = ('%1.f%%'))"
   ]
  },
  {
   "cell_type": "code",
   "execution_count": 26,
   "id": "ae5707a5",
   "metadata": {},
   "outputs": [],
   "source": [
    "# Export chart\n",
    "pie_chart_age.figure.savefig(os.path.join(path, '04 Analysis', 'Visualizations', 'pie_chart_age_cust'))"
   ]
  },
  {
   "cell_type": "markdown",
   "id": "7b9aaf43",
   "metadata": {},
   "source": [
    "### Income"
   ]
  },
  {
   "cell_type": "code",
   "execution_count": 27,
   "id": "aad0edfa",
   "metadata": {},
   "outputs": [
    {
     "data": {
      "image/png": "[encoded data removed]",
      "text/plain": [
       "<Figure size 640x480 with 1 Axes>"
      ]
     },
     "metadata": {},
     "output_type": "display_data"
    }
   ],
   "source": [
    "pie_chart_income = high_act_cust['income_flag'].value_counts().plot.pie(title = 'Income Profile', label = '', autopct = ('%1.f%%'))"
   ]
  },
  {
   "cell_type": "code",
   "execution_count": 28,
   "id": "14cae3ec",
   "metadata": {},
   "outputs": [],
   "source": [
    "# Export chart\n",
    "pie_chart_income.figure.savefig(os.path.join(path, '04 Analysis', 'Visualizations', 'pie_chart_income'))"
   ]
  },
  {
   "cell_type": "markdown",
   "id": "5f9fc43a",
   "metadata": {},
   "source": [
    "### Dependents"
   ]
  },
  {
   "cell_type": "code",
   "execution_count": 29,
   "id": "32cecef8",
   "metadata": {},
   "outputs": [
    {
     "data": {
      "image/png": "[encoded data removed]",
      "text/plain": [
       "<Figure size 640x480 with 1 Axes>"
      ]
     },
     "metadata": {},
     "output_type": "display_data"
    }
   ],
   "source": [
    "pie_chart_dependents = high_act_cust['dependents_flag'].value_counts().plot.pie(title = 'Dependents Profile', label = '', autopct = ('%1.f%%'))"
   ]
  },
  {
   "cell_type": "code",
   "execution_count": 30,
   "id": "3fca7e95",
   "metadata": {},
   "outputs": [],
   "source": [
    "# Export chart\n",
    "pie_chart_dependents.figure.savefig(os.path.join(path, '04 Analysis', 'Visualizations', 'pie_chart_dependents'))"
   ]
  },
  {
   "cell_type": "markdown",
   "id": "6c78567e",
   "metadata": {},
   "source": [
    "# 05. Aggregations"
   ]
  },
  {
   "cell_type": "markdown",
   "id": "b8e5c7fa",
   "metadata": {},
   "source": [
    "## Age"
   ]
  },
  {
   "cell_type": "code",
   "execution_count": 31,
   "id": "a77059b6",
   "metadata": {},
   "outputs": [],
   "source": [
    "age_agg = df_merged.groupby('age_flag').agg({'days_since_prior_order': ['min', 'max', 'mean'], 'prices': ['min', 'max', 'mean', 'sum']})"
   ]
  },
  {
   "cell_type": "code",
   "execution_count": 32,
   "id": "8b7ca255",
   "metadata": {},
   "outputs": [
    {
     "data": {
      "text/html": [
       "<div>\n",
       "<style scoped>\n",
       "    .dataframe tbody tr th:only-of-type {\n",
       "        vertical-align: middle;\n",
       "    }\n",
       "\n",
       "    .dataframe tbody tr th {\n",
       "        vertical-align: top;\n",
       "    }\n",
       "\n",
       "    .dataframe thead tr th {\n",
       "        text-align: left;\n",
       "    }\n",
       "\n",
       "    .dataframe thead tr:last-of-type th {\n",
       "        text-align: right;\n",
       "    }\n",
       "</style>\n",
       "<table border=\"1\" class=\"dataframe\">\n",
       "  <thead>\n",
       "    <tr>\n",
       "      <th></th>\n",
       "      <th colspan=\"3\" halign=\"left\">days_since_prior_order</th>\n",
       "      <th colspan=\"4\" halign=\"left\">prices</th>\n",
       "    </tr>\n",
       "    <tr>\n",
       "      <th></th>\n",
       "      <th>min</th>\n",
       "      <th>max</th>\n",
       "      <th>mean</th>\n",
       "      <th>min</th>\n",
       "      <th>max</th>\n",
       "      <th>mean</th>\n",
       "      <th>sum</th>\n",
       "    </tr>\n",
       "    <tr>\n",
       "      <th>age_flag</th>\n",
       "      <th></th>\n",
       "      <th></th>\n",
       "      <th></th>\n",
       "      <th></th>\n",
       "      <th></th>\n",
       "      <th></th>\n",
       "      <th></th>\n",
       "    </tr>\n",
       "  </thead>\n",
       "  <tbody>\n",
       "    <tr>\n",
       "      <th>Adult</th>\n",
       "      <td>0.0</td>\n",
       "      <td>30.0</td>\n",
       "      <td>10.815066</td>\n",
       "      <td>1.0</td>\n",
       "      <td>25.0</td>\n",
       "      <td>7.789144</td>\n",
       "      <td>71762097.6</td>\n",
       "    </tr>\n",
       "    <tr>\n",
       "      <th>Middle Age</th>\n",
       "      <td>0.0</td>\n",
       "      <td>30.0</td>\n",
       "      <td>10.823754</td>\n",
       "      <td>1.0</td>\n",
       "      <td>25.0</td>\n",
       "      <td>7.788404</td>\n",
       "      <td>56932226.4</td>\n",
       "    </tr>\n",
       "    <tr>\n",
       "      <th>Senior</th>\n",
       "      <td>0.0</td>\n",
       "      <td>30.0</td>\n",
       "      <td>10.800550</td>\n",
       "      <td>1.0</td>\n",
       "      <td>25.0</td>\n",
       "      <td>7.795446</td>\n",
       "      <td>82420137.8</td>\n",
       "    </tr>\n",
       "    <tr>\n",
       "      <th>Young Adult</th>\n",
       "      <td>0.0</td>\n",
       "      <td>30.0</td>\n",
       "      <td>10.799108</td>\n",
       "      <td>1.0</td>\n",
       "      <td>25.0</td>\n",
       "      <td>7.784889</td>\n",
       "      <td>30079773.8</td>\n",
       "    </tr>\n",
       "  </tbody>\n",
       "</table>\n",
       "</div>"
      ],
      "text/plain": [
       "            days_since_prior_order                  prices                  \\\n",
       "                               min   max       mean    min   max      mean   \n",
       "age_flag                                                                     \n",
       "Adult                          0.0  30.0  10.815066    1.0  25.0  7.789144   \n",
       "Middle Age                     0.0  30.0  10.823754    1.0  25.0  7.788404   \n",
       "Senior                         0.0  30.0  10.800550    1.0  25.0  7.795446   \n",
       "Young Adult                    0.0  30.0  10.799108    1.0  25.0  7.784889   \n",
       "\n",
       "                         \n",
       "                    sum  \n",
       "age_flag                 \n",
       "Adult        71762097.6  \n",
       "Middle Age   56932226.4  \n",
       "Senior       82420137.8  \n",
       "Young Adult  30079773.8  "
      ]
     },
     "execution_count": 32,
     "metadata": {},
     "output_type": "execute_result"
    }
   ],
   "source": [
    "age_agg"
   ]
  },
  {
   "cell_type": "markdown",
   "id": "d7888ff9",
   "metadata": {},
   "source": [
    "## Income"
   ]
  },
  {
   "cell_type": "code",
   "execution_count": 33,
   "id": "74275ef7",
   "metadata": {},
   "outputs": [],
   "source": [
    "income_agg = high_act_cust.groupby('income_flag').agg({'days_since_prior_order': ['min', 'max', 'mean'], 'prices': ['min', 'max', 'mean', 'sum']})"
   ]
  },
  {
   "cell_type": "code",
   "execution_count": 34,
   "id": "76d9ebfb",
   "metadata": {},
   "outputs": [
    {
     "data": {
      "text/html": [
       "<div>\n",
       "<style scoped>\n",
       "    .dataframe tbody tr th:only-of-type {\n",
       "        vertical-align: middle;\n",
       "    }\n",
       "\n",
       "    .dataframe tbody tr th {\n",
       "        vertical-align: top;\n",
       "    }\n",
       "\n",
       "    .dataframe thead tr th {\n",
       "        text-align: left;\n",
       "    }\n",
       "\n",
       "    .dataframe thead tr:last-of-type th {\n",
       "        text-align: right;\n",
       "    }\n",
       "</style>\n",
       "<table border=\"1\" class=\"dataframe\">\n",
       "  <thead>\n",
       "    <tr>\n",
       "      <th></th>\n",
       "      <th colspan=\"3\" halign=\"left\">days_since_prior_order</th>\n",
       "      <th colspan=\"4\" halign=\"left\">prices</th>\n",
       "    </tr>\n",
       "    <tr>\n",
       "      <th></th>\n",
       "      <th>min</th>\n",
       "      <th>max</th>\n",
       "      <th>mean</th>\n",
       "      <th>min</th>\n",
       "      <th>max</th>\n",
       "      <th>mean</th>\n",
       "      <th>sum</th>\n",
       "    </tr>\n",
       "    <tr>\n",
       "      <th>income_flag</th>\n",
       "      <th></th>\n",
       "      <th></th>\n",
       "      <th></th>\n",
       "      <th></th>\n",
       "      <th></th>\n",
       "      <th></th>\n",
       "      <th></th>\n",
       "    </tr>\n",
       "  </thead>\n",
       "  <tbody>\n",
       "    <tr>\n",
       "      <th>High income</th>\n",
       "      <td>0.0</td>\n",
       "      <td>30.0</td>\n",
       "      <td>10.683471</td>\n",
       "      <td>1.0</td>\n",
       "      <td>25.0</td>\n",
       "      <td>7.940855</td>\n",
       "      <td>30896595.2</td>\n",
       "    </tr>\n",
       "    <tr>\n",
       "      <th>Low income</th>\n",
       "      <td>0.0</td>\n",
       "      <td>30.0</td>\n",
       "      <td>11.175808</td>\n",
       "      <td>1.0</td>\n",
       "      <td>25.0</td>\n",
       "      <td>6.707347</td>\n",
       "      <td>22553818.0</td>\n",
       "    </tr>\n",
       "    <tr>\n",
       "      <th>Middle income</th>\n",
       "      <td>0.0</td>\n",
       "      <td>30.0</td>\n",
       "      <td>10.779372</td>\n",
       "      <td>1.0</td>\n",
       "      <td>25.0</td>\n",
       "      <td>7.919577</td>\n",
       "      <td>187743822.4</td>\n",
       "    </tr>\n",
       "  </tbody>\n",
       "</table>\n",
       "</div>"
      ],
      "text/plain": [
       "              days_since_prior_order                  prices                  \\\n",
       "                                 min   max       mean    min   max      mean   \n",
       "income_flag                                                                    \n",
       "High income                      0.0  30.0  10.683471    1.0  25.0  7.940855   \n",
       "Low income                       0.0  30.0  11.175808    1.0  25.0  6.707347   \n",
       "Middle income                    0.0  30.0  10.779372    1.0  25.0  7.919577   \n",
       "\n",
       "                            \n",
       "                       sum  \n",
       "income_flag                 \n",
       "High income     30896595.2  \n",
       "Low income      22553818.0  \n",
       "Middle income  187743822.4  "
      ]
     },
     "execution_count": 34,
     "metadata": {},
     "output_type": "execute_result"
    }
   ],
   "source": [
    "income_agg"
   ]
  },
  {
   "cell_type": "markdown",
   "id": "fe189640",
   "metadata": {},
   "source": [
    "## Dependents"
   ]
  },
  {
   "cell_type": "code",
   "execution_count": 35,
   "id": "44d6daf8",
   "metadata": {},
   "outputs": [],
   "source": [
    "dependents_agg = high_act_cust.groupby('dependents_flag').agg({'days_since_prior_order': ['min', 'max', 'mean'], 'prices': ['min', 'max', 'mean', 'sum']})"
   ]
  },
  {
   "cell_type": "code",
   "execution_count": 36,
   "id": "4fff3a3f",
   "metadata": {},
   "outputs": [
    {
     "data": {
      "text/html": [
       "<div>\n",
       "<style scoped>\n",
       "    .dataframe tbody tr th:only-of-type {\n",
       "        vertical-align: middle;\n",
       "    }\n",
       "\n",
       "    .dataframe tbody tr th {\n",
       "        vertical-align: top;\n",
       "    }\n",
       "\n",
       "    .dataframe thead tr th {\n",
       "        text-align: left;\n",
       "    }\n",
       "\n",
       "    .dataframe thead tr:last-of-type th {\n",
       "        text-align: right;\n",
       "    }\n",
       "</style>\n",
       "<table border=\"1\" class=\"dataframe\">\n",
       "  <thead>\n",
       "    <tr>\n",
       "      <th></th>\n",
       "      <th colspan=\"3\" halign=\"left\">days_since_prior_order</th>\n",
       "      <th colspan=\"4\" halign=\"left\">prices</th>\n",
       "    </tr>\n",
       "    <tr>\n",
       "      <th></th>\n",
       "      <th>min</th>\n",
       "      <th>max</th>\n",
       "      <th>mean</th>\n",
       "      <th>min</th>\n",
       "      <th>max</th>\n",
       "      <th>mean</th>\n",
       "      <th>sum</th>\n",
       "    </tr>\n",
       "    <tr>\n",
       "      <th>dependents_flag</th>\n",
       "      <th></th>\n",
       "      <th></th>\n",
       "      <th></th>\n",
       "      <th></th>\n",
       "      <th></th>\n",
       "      <th></th>\n",
       "      <th></th>\n",
       "    </tr>\n",
       "  </thead>\n",
       "  <tbody>\n",
       "    <tr>\n",
       "      <th>Caregiver</th>\n",
       "      <td>0.0</td>\n",
       "      <td>30.0</td>\n",
       "      <td>10.816265</td>\n",
       "      <td>1.0</td>\n",
       "      <td>25.0</td>\n",
       "      <td>7.790937</td>\n",
       "      <td>180914742.9</td>\n",
       "    </tr>\n",
       "    <tr>\n",
       "      <th>Individual</th>\n",
       "      <td>0.0</td>\n",
       "      <td>30.0</td>\n",
       "      <td>10.791879</td>\n",
       "      <td>1.0</td>\n",
       "      <td>25.0</td>\n",
       "      <td>7.789550</td>\n",
       "      <td>60279492.7</td>\n",
       "    </tr>\n",
       "  </tbody>\n",
       "</table>\n",
       "</div>"
      ],
      "text/plain": [
       "                days_since_prior_order                  prices        \\\n",
       "                                   min   max       mean    min   max   \n",
       "dependents_flag                                                        \n",
       "Caregiver                          0.0  30.0  10.816265    1.0  25.0   \n",
       "Individual                         0.0  30.0  10.791879    1.0  25.0   \n",
       "\n",
       "                                        \n",
       "                     mean          sum  \n",
       "dependents_flag                         \n",
       "Caregiver        7.790937  180914742.9  \n",
       "Individual       7.789550   60279492.7  "
      ]
     },
     "execution_count": 36,
     "metadata": {},
     "output_type": "execute_result"
    }
   ],
   "source": [
    "dependents_agg"
   ]
  },
  {
   "cell_type": "markdown",
   "id": "63e7aae9",
   "metadata": {},
   "source": [
    "# 06. Compare with Regions"
   ]
  },
  {
   "cell_type": "markdown",
   "id": "add1f11c",
   "metadata": {},
   "source": [
    "## Age"
   ]
  },
  {
   "cell_type": "code",
   "execution_count": 37,
   "id": "595640b5",
   "metadata": {},
   "outputs": [],
   "source": [
    "# Create Crosstab between age and region\n",
    "crosstab_age_region = pd.crosstab(high_act_cust['region'], high_act_cust['age_flag'], dropna = False)"
   ]
  },
  {
   "cell_type": "code",
   "execution_count": 40,
   "id": "7cf3900a",
   "metadata": {},
   "outputs": [
    {
     "data": {
      "image/png": "[encoded data removed]",
      "text/plain": [
       "<Figure size 640x480 with 1 Axes>"
      ]
     },
     "metadata": {},
     "output_type": "display_data"
    }
   ],
   "source": [
    "# Create bar chart\n",
    "bar_age_region = crosstab_age_region.plot.bar(title = 'Age Distribution by Region', color = {'Young Adult': 'pink', 'Adult': 'orange', 'Middle Age': 'blue', 'Senior': 'green'})\n",
    "plt.legend(bbox_to_anchor = (1.0, 1.0))\n",
    "plt.show()"
   ]
  },
  {
   "cell_type": "code",
   "execution_count": 42,
   "id": "ced79ba5",
   "metadata": {},
   "outputs": [],
   "source": [
    "# Export bar age region\n",
    "bar_age_region.figure.savefig(os.path.join(path, '04 Analysis', 'Visualizations', 'bar_age_profile_region'))"
   ]
  },
  {
   "cell_type": "markdown",
   "id": "d1e802d9",
   "metadata": {},
   "source": [
    "## Income"
   ]
  },
  {
   "cell_type": "code",
   "execution_count": 43,
   "id": "dab558ce",
   "metadata": {},
   "outputs": [],
   "source": [
    "# Create Crosstab between Income and Region\n",
    "crosstab_income_region = pd.crosstab(high_act_cust['region'], high_act_cust['income_flag'], dropna = False)"
   ]
  },
  {
   "cell_type": "code",
   "execution_count": 44,
   "id": "c5c3c696",
   "metadata": {},
   "outputs": [
    {
     "data": {
      "image/png": "[encoded data removed]",
      "text/plain": [
       "<Figure size 640x480 with 1 Axes>"
      ]
     },
     "metadata": {},
     "output_type": "display_data"
    }
   ],
   "source": [
    "# Create bar chart\n",
    "bar_income_region = crosstab_income_region.plot.bar(title = 'Income Distribution by Region', color = {'Low income': 'red', 'Middle income': 'orange', 'High income': 'green'})\n",
    "plt.legend(bbox_to_anchor = (1.0, 1.0))\n",
    "plt.show()"
   ]
  },
  {
   "cell_type": "code",
   "execution_count": 45,
   "id": "d7bcda92",
   "metadata": {},
   "outputs": [],
   "source": [
    "# Export bar income region\n",
    "bar_income_region.figure.savefig(os.path.join(path, '04 Analysis', 'Visualizations', 'bar_income_profile_region'))"
   ]
  },
  {
   "cell_type": "markdown",
   "id": "8ba5d353",
   "metadata": {},
   "source": [
    "## Dependents"
   ]
  },
  {
   "cell_type": "code",
   "execution_count": 47,
   "id": "614df94a",
   "metadata": {},
   "outputs": [],
   "source": [
    "# Create Crosstab between Dependents and Region\n",
    "crosstab_dependents_region = pd.crosstab(high_act_cust['region'], high_act_cust['dependents_flag'], dropna = False)"
   ]
  },
  {
   "cell_type": "code",
   "execution_count": 50,
   "id": "bd6de1e9",
   "metadata": {},
   "outputs": [
    {
     "data": {
      "image/png": "[encoded data removed]",
      "text/plain": [
       "<Figure size 640x480 with 1 Axes>"
      ]
     },
     "metadata": {},
     "output_type": "display_data"
    }
   ],
   "source": [
    "# Create bar chart\n",
    "bar_dependents_region = crosstab_dependents_region.plot.bar(title = 'Dependents Distribution by Region', color = {'Caregiver': 'Green', 'Individual': 'blue'})\n",
    "plt.legend(bbox_to_anchor = (1.0, 1.0))\n",
    "plt.show()"
   ]
  },
  {
   "cell_type": "code",
   "execution_count": 51,
   "id": "0ef7f851",
   "metadata": {},
   "outputs": [],
   "source": [
    "# Export bar dependents region\n",
    "bar_dependents_region.figure.savefig(os.path.join(path, '04 Analysis', 'Visualizations', 'bar_dependents_profile_region'))"
   ]
  },
  {
   "cell_type": "markdown",
   "id": "d756dbc8",
   "metadata": {},
   "source": [
    "# 07. Compare with Departments"
   ]
  },
  {
   "cell_type": "markdown",
   "id": "49419cff",
   "metadata": {},
   "source": [
    "## Age"
   ]
  },
  {
   "cell_type": "code",
   "execution_count": 56,
   "id": "59262aa5",
   "metadata": {},
   "outputs": [],
   "source": [
    "# Create a Crosstab between Age and Departments\n",
    "crosstab_age_departments = pd.crosstab(df_merged['department'], df_merged['age_flag'], dropna = False)"
   ]
  },
  {
   "cell_type": "code",
   "execution_count": 57,
   "id": "cc0d3178",
   "metadata": {},
   "outputs": [
    {
     "data": {
      "image/png": "[encoded data removed]",
      "text/plain": [
       "<Figure size 640x480 with 1 Axes>"
      ]
     },
     "metadata": {},
     "output_type": "display_data"
    }
   ],
   "source": [
    "# Create stacked bar chart\n",
    "stacked_bar_age_department = crosstab_age_departments.plot.barh(stacked = True, title = 'Age Distribution by Department', color = {'Young Adult' : 'pink', 'Adult' : 'orange', 'Middle Age' : 'blue', 'Senior' : 'green'})\n",
    "plt.legend(bbox_to_anchor = (1.0, 1.0))\n",
    "plt.show()"
   ]
  },
  {
   "cell_type": "code",
   "execution_count": 58,
   "id": "476685fa",
   "metadata": {},
   "outputs": [],
   "source": [
    "# Export chart\n",
    "stacked_bar_age_department.figure.savefig(os.path.join(path, '04 Analysis', 'Visualizations', 'stacked_bar_age_departments'))"
   ]
  },
  {
   "cell_type": "markdown",
   "id": "c6bcdf42",
   "metadata": {},
   "source": [
    "## Income"
   ]
  },
  {
   "cell_type": "code",
   "execution_count": 60,
   "id": "61f660bf",
   "metadata": {},
   "outputs": [],
   "source": [
    "# Create a Crosstab between Income and Departments\n",
    "crosstab_income_department = pd.crosstab(df_merged['department'], df_merged['income_flag'], dropna = False)"
   ]
  },
  {
   "cell_type": "code",
   "execution_count": 61,
   "id": "8a0dd6f5",
   "metadata": {},
   "outputs": [
    {
     "data": {
      "image/png": "[encoded data removed]",
      "text/plain": [
       "<Figure size 640x480 with 1 Axes>"
      ]
     },
     "metadata": {},
     "output_type": "display_data"
    }
   ],
   "source": [
    "# Create stacked bar chart\n",
    "stacked_bar_income_department = crosstab_income_department.plot.barh(stacked = True, title = 'Income Distribution by Department', color = {'Low income' : 'red', 'Middle income' : 'orange', 'High income' : 'green'})\n",
    "plt.legend(bbox_to_anchor = (1.0, 1.0))\n",
    "plt.show()"
   ]
  },
  {
   "cell_type": "code",
   "execution_count": 62,
   "id": "ac80e3d6",
   "metadata": {},
   "outputs": [],
   "source": [
    "# Export chart\n",
    "stacked_bar_income_department.figure.savefig(os.path.join(path, '04 Analysis', 'Visualizations', 'stacked_bar_income_department'))"
   ]
  },
  {
   "cell_type": "markdown",
   "id": "3bcc3867",
   "metadata": {},
   "source": [
    "## Dependents"
   ]
  },
  {
   "cell_type": "code",
   "execution_count": 63,
   "id": "b36af83e",
   "metadata": {},
   "outputs": [],
   "source": [
    "# Create a Crosstab between Dependents and Departments\n",
    "crosstab_dependents_department = pd.crosstab(df_merged['department'], df_merged['dependents_flag'], dropna = False)"
   ]
  },
  {
   "cell_type": "code",
   "execution_count": 64,
   "id": "f5595e82",
   "metadata": {},
   "outputs": [
    {
     "data": {
      "image/png": "[encoded data removed]",
      "text/plain": [
       "<Figure size 640x480 with 1 Axes>"
      ]
     },
     "metadata": {},
     "output_type": "display_data"
    }
   ],
   "source": [
    "# Create stacked bar chart\n",
    "stacked_bar_dependents_department = crosstab_dependents_department.plot.barh(stacked = True, title = 'Dependents Distribution by Department', color = {'Caregiver' : 'Green', 'Individual' : 'blue'})\n",
    "plt.legend(bbox_to_anchor = (1.0, 1.0))\n",
    "plt.show()"
   ]
  },
  {
   "cell_type": "code",
   "execution_count": 65,
   "id": "cc59430d",
   "metadata": {},
   "outputs": [],
   "source": [
    "# Export chart\n",
    "stacked_bar_dependents_department.figure.savefig(os.path.join(path, '04 Analysis', 'Visualizations', 'stacked_bar_dependents_department'))"
   ]
  },
  {
   "cell_type": "markdown",
   "id": "6e9faf3a",
   "metadata": {},
   "source": [
    "# 08. Export Merged Dataframe"
   ]
  },
  {
   "cell_type": "code",
   "execution_count": 68,
   "id": "0d41971f",
   "metadata": {},
   "outputs": [
    {
     "name": "stdout",
     "output_type": "stream",
     "text": [
      "<class 'pandas.core.frame.DataFrame'>\n",
      "Int64Index: 30959687 entries, 0 to 30959686\n",
      "Data columns (total 38 columns):\n",
      " #   Column                         Dtype   \n",
      "---  ------                         -----   \n",
      " 0   product_id                     int64   \n",
      " 1   product_name                   object  \n",
      " 2   aisle_id                       int64   \n",
      " 3   department_id                  int64   \n",
      " 4   prices                         float64 \n",
      " 5   order_id                       int64   \n",
      " 6   user_id                        int64   \n",
      " 7   order_number                   int64   \n",
      " 8   orders_day_of_week             int64   \n",
      " 9   order_hour_of_day              int64   \n",
      " 10  days_since_prior_order         float64 \n",
      " 11  add_to_cart_order              int64   \n",
      " 12  reordered                      int64   \n",
      " 13  _merge                         category\n",
      " 14  busiest_day                    object  \n",
      " 15  price_range_loc                object  \n",
      " 16  busiest_days                   object  \n",
      " 17  busiest_hours                  object  \n",
      " 18  busiest_period_of_day          object  \n",
      " 19  max_order                      int64   \n",
      " 20  loyalty_flag                   object  \n",
      " 21  mean_prices                    float64 \n",
      " 22  spending_flag                  object  \n",
      " 23  median_days_since_prior_order  float64 \n",
      " 24  frequent_user_flag             object  \n",
      " 25  Gender                         object  \n",
      " 26  STATE                          object  \n",
      " 27  Age                            int64   \n",
      " 28  date_joined                    object  \n",
      " 29  n_dependants                   int64   \n",
      " 30  marriage_status                object  \n",
      " 31  income                         int64   \n",
      " 32  region                         object  \n",
      " 33  low_activity_flag              object  \n",
      " 34  age_flag                       object  \n",
      " 35  income_flag                    object  \n",
      " 36  dependents_flag                object  \n",
      " 37  department                     object  \n",
      "dtypes: category(1), float64(4), int64(14), object(19)\n",
      "memory usage: 8.8+ GB\n",
      "The history saving thread hit an unexpected error (OperationalError('unable to open database file')).History will not be written to the database.\n"
     ]
    }
   ],
   "source": [
    "df_merged.info()"
   ]
  },
  {
   "cell_type": "code",
   "execution_count": 69,
   "id": "02555ba8",
   "metadata": {},
   "outputs": [],
   "source": [
    "df_merged.to_pickle(os.path.join(path, '02 Data', 'Prepared Data', 'df_merged_FINAL.pkl'))"
   ]
  },
  {
   "cell_type": "code",
   "execution_count": null,
   "id": "fc5284a5",
   "metadata": {},
   "outputs": [],
   "source": []
  }
 ],
 "metadata": {
  "kernelspec": {
   "display_name": "Python 3 (ipykernel)",
   "language": "python",
   "name": "python3"
  },
  "language_info": {
   "codemirror_mode": {
    "name": "ipython",
    "version": 3
   },
   "file_extension": ".py",
   "mimetype": "text/x-python",
   "name": "python",
   "nbconvert_exporter": "python",
   "pygments_lexer": "ipython3",
   "version": "3.10.9"
  }
 },
 "nbformat": 4,
 "nbformat_minor": 5
}
